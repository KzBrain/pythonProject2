{
 "cells": [
  {
   "cell_type": "code",
   "execution_count": 24,
   "id": "5e9e4cb4",
   "metadata": {},
   "outputs": [],
   "source": [
    "#В статье проведен анализ корреляции рентгенологических критериев центрального дегенеративного стеноза позвоночного\n",
    "#канала пояснично-крестцового отдела позвоночника и степени выраженности его клинических проявлений. В НИИ\n",
    "#нейрохирургии им. акад. Н.Н. Бурденко РАМН в период с 2010 по 2011 г. было проведено хирургическое лечение 27\n",
    "#пациентов (16 мужчин и 11 женщин, средний возраст 57,9 года) с центральным стенозом позвоночного канала пояснично-\n",
    "#крестцового отдела позвоночника. Всем пациентам выполнялась декомпрессия в сочетании со стабилизацией\n",
    "#позвоночных сегментов пояснично-крестцового отдела позвоночника. Для стабилизации применялись различные\n",
    "#варианты транспедикулярных винтов, в том числе системы транскутанной стабилизации. Межтеловая стабилизация\n",
    "#проводилась из заднебокового трансфораминального доступа (TLIF — Transforaminal Lumbar Interbody Fusion). В 13\n",
    "#случаях, в сочетании с межтеловой стабилизацией, была выполнена косая транскорпоральная стабилизация системой\n",
    "#GoLif (Guided Oblique Lumbar Interbody Fusion), установка которой без применения метода роботоассистенции\n",
    "#невозможна. До операции все пациенты проходили комплексное обследование. При МРТ оценивались следующие\n",
    "#параметры: переднезадний диаметр позвоночного канала в мм, межфасеточный интервал в мм и площадь поперечного\n",
    "#сечения позвоночного канала в мм2. Состояние пациентов до и после операции, а так же на этапах наблюдения\n",
    "#оценивалось с помощью шкалы оценки степени выраженности дегенеративного заболевания (СВЗ) и Швейцарской шкалы\n",
    "#оценки пациента со стенозом позвоночного канала Swiss Spinal Stenosis score (Zurich Claudication Questionnaire, Brigham\n",
    "#Spinal Stenosis Questionnaire).\n",
    "#Ключевые слова: дегенеративный стеноз, стеноз позвоночного канала, косая транскорпоральная стабилизация,\n",
    "#роботоассистенция, степень выраженности дегенеративного заболевания (СВЗ)."
   ]
  },
  {
   "cell_type": "code",
   "execution_count": null,
   "id": "069beab0",
   "metadata": {},
   "outputs": [],
   "source": [
    "import numpy as np\n",
    "import pandas as pd"
   ]
  },
  {
   "cell_type": "code",
   "execution_count": 25,
   "id": "7504b067",
   "metadata": {},
   "outputs": [],
   "source": [
    "sss = np.array([27,16,28,24,26,27,20,9,24,26,27,20,9,24,20,20,23,26,14,17,15,22,11,19,18,15,25])\n",
    "svz = np.array([48.7,29.9,63.7,43.1,53.3,55.7,51.3,25.5,66.7,59.4,54.5,55.1,61.1,39.5,45.1,42.3,62.9,36.3,54.5,53.8,44.7,62.7,39.3,53.5,51.9,35.3,55.5])\n",
    "data = np.array([sss,svz])"
   ]
  },
  {
   "cell_type": "code",
   "execution_count": 26,
   "id": "64b6cbfd",
   "metadata": {},
   "outputs": [
    {
     "data": {
      "text/plain": [
       "array([[ 31.0617284 ,  23.5255144 ],\n",
       "       [ 23.5255144 , 110.02340192]])"
      ]
     },
     "execution_count": 26,
     "metadata": {},
     "output_type": "execute_result"
    }
   ],
   "source": [
    "cov_sss = np.cov(data,bias = True)\n",
    "cov_sss"
   ]
  },
  {
   "cell_type": "code",
   "execution_count": 30,
   "id": "89a34565",
   "metadata": {},
   "outputs": [
    {
     "data": {
      "text/plain": [
       "23.525514403292277"
      ]
     },
     "execution_count": 30,
     "metadata": {},
     "output_type": "execute_result"
    }
   ],
   "source": [
    "x_mean = sss.mean()\n",
    "y_mean = svz.mean()\n",
    "xy_mean = (sss * svz).mean()\n",
    "cov_xy = xy_mean - x_mean * y_mean\n",
    "cov_xy"
   ]
  },
  {
   "cell_type": "code",
   "execution_count": 31,
   "id": "3efa4e17",
   "metadata": {},
   "outputs": [
    {
     "data": {
      "text/plain": [
       "0.4024239178161439"
      ]
     },
     "execution_count": 31,
     "metadata": {},
     "output_type": "execute_result"
    }
   ],
   "source": [
    "x_std = sss.std()\n",
    "y_std = svz.std()\n",
    "corel = cov_xy/(x_std*y_std)\n",
    "corel"
   ]
  },
  {
   "cell_type": "code",
   "execution_count": 33,
   "id": "623be4df",
   "metadata": {},
   "outputs": [
    {
     "data": {
      "text/plain": [
       "array([[1.        , 0.40242392],\n",
       "       [0.40242392, 1.        ]])"
      ]
     },
     "execution_count": 33,
     "metadata": {},
     "output_type": "execute_result"
    }
   ],
   "source": [
    "np.corrcoef(sss,svz)"
   ]
  },
  {
   "cell_type": "code",
   "execution_count": null,
   "id": "d7d49b1d",
   "metadata": {},
   "outputs": [],
   "source": [
    "#На основании полученных нами данных уста-\n",
    "#новлено, что рентгенологические критерии не име-\n",
    "#ют связи с клиническими симптомами центрально-\n",
    "#го стеноза позвоночного канала пояснично-крест-\n",
    "#цового отдела позвоночника"
   ]
  }
 ],
 "metadata": {
  "kernelspec": {
   "display_name": "Python 3 (ipykernel)",
   "language": "python",
   "name": "python3"
  },
  "language_info": {
   "codemirror_mode": {
    "name": "ipython",
    "version": 3
   },
   "file_extension": ".py",
   "mimetype": "text/x-python",
   "name": "python",
   "nbconvert_exporter": "python",
   "pygments_lexer": "ipython3",
   "version": "3.9.7"
  }
 },
 "nbformat": 4,
 "nbformat_minor": 5
}
