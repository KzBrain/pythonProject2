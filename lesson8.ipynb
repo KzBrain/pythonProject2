{
 "cells": [
  {
   "cell_type": "code",
   "execution_count": 2,
   "id": "8f598094",
   "metadata": {},
   "outputs": [],
   "source": [
    "import numpy as np"
   ]
  },
  {
   "cell_type": "code",
   "execution_count": 3,
   "id": "fb644693",
   "metadata": {},
   "outputs": [],
   "source": [
    "n1 = 8\n",
    "n2 = 9\n",
    "n3 = 11\n",
    "n = n1 + n2 + n3\n",
    "k = 3"
   ]
  },
  {
   "cell_type": "code",
   "execution_count": 4,
   "id": "22e60903",
   "metadata": {},
   "outputs": [],
   "source": [
    "x1 = np.array([173, 175, 180, 178, 177, 185, 183, 182],dtype = np.float64)\n",
    "x2 = np.array([177, 179, 180, 188, 177, 172, 171, 184, 180],dtype = np.float64)\n",
    "x3 = np.array([172, 173, 169, 177, 166, 180, 178, 177, 172, 166, 170],dtype = np.float64)"
   ]
  },
  {
   "cell_type": "code",
   "execution_count": 5,
   "id": "5096f128",
   "metadata": {},
   "outputs": [],
   "source": [
    "x1_mean = np.mean(x1)\n",
    "x2_mean = np.mean(x2)\n",
    "x3_mean = np.mean(x3)\n",
    "x_all = np.concatenate([x1,x2,x3])\n",
    "x_all_mean = np.mean(x_all)"
   ]
  },
  {
   "cell_type": "code",
   "execution_count": 6,
   "id": "85e77752",
   "metadata": {},
   "outputs": [
    {
     "data": {
      "text/plain": [
       "830.9642857142854"
      ]
     },
     "execution_count": 6,
     "metadata": {},
     "output_type": "execute_result"
    }
   ],
   "source": [
    "s2 = np.sum((x_all - x_all_mean)**2)\n",
    "s2"
   ]
  },
  {
   "cell_type": "code",
   "execution_count": 7,
   "id": "61c4546b",
   "metadata": {},
   "outputs": [
    {
     "data": {
      "text/plain": [
       "577.0568181818182"
      ]
     },
     "execution_count": 7,
     "metadata": {},
     "output_type": "execute_result"
    }
   ],
   "source": [
    "s2f = np.sum((x1 - x1_mean)**2) + np.sum((x2 - x2_mean)**2) + np.sum((x3 - x3_mean)**2)\n",
    "s2f"
   ]
  },
  {
   "cell_type": "code",
   "execution_count": 8,
   "id": "800d06da",
   "metadata": {},
   "outputs": [
    {
     "data": {
      "text/plain": [
       "253.9074675324672"
      ]
     },
     "execution_count": 8,
     "metadata": {},
     "output_type": "execute_result"
    }
   ],
   "source": [
    "s2_rest = s2 - s2f\n",
    "s2_rest"
   ]
  },
  {
   "cell_type": "code",
   "execution_count": 9,
   "id": "b57ef9f4",
   "metadata": {},
   "outputs": [
    {
     "data": {
      "text/plain": [
       "30.776455026455015"
      ]
     },
     "execution_count": 9,
     "metadata": {},
     "output_type": "execute_result"
    }
   ],
   "source": [
    "sigma_all = s2/(n-1)\n",
    "sigma_all"
   ]
  },
  {
   "cell_type": "code",
   "execution_count": 10,
   "id": "eb71a69e",
   "metadata": {},
   "outputs": [
    {
     "data": {
      "text/plain": [
       "288.5284090909091"
      ]
     },
     "execution_count": 10,
     "metadata": {},
     "output_type": "execute_result"
    }
   ],
   "source": [
    "sigma_f = s2f/(k-1)\n",
    "sigma_f"
   ]
  },
  {
   "cell_type": "code",
   "execution_count": 11,
   "id": "d85c8caa",
   "metadata": {},
   "outputs": [
    {
     "data": {
      "text/plain": [
       "10.156298701298688"
      ]
     },
     "execution_count": 11,
     "metadata": {},
     "output_type": "execute_result"
    }
   ],
   "source": [
    "sigma_rest = s2_rest/(n-k)\n",
    "sigma_rest"
   ]
  },
  {
   "cell_type": "code",
   "execution_count": 12,
   "id": "9c474e95",
   "metadata": {},
   "outputs": [
    {
     "data": {
      "text/plain": [
       "28.408814822866024"
      ]
     },
     "execution_count": 12,
     "metadata": {},
     "output_type": "execute_result"
    }
   ],
   "source": [
    "Fh = sigma_f/sigma_rest\n",
    "Fh"
   ]
  },
  {
   "cell_type": "code",
   "execution_count": 13,
   "id": "3ef0e3ed",
   "metadata": {},
   "outputs": [
    {
     "data": {
      "text/plain": [
       "0.6944423823050206"
      ]
     },
     "execution_count": 13,
     "metadata": {},
     "output_type": "execute_result"
    }
   ],
   "source": [
    "teta2 = s2f/s2\n",
    "teta2"
   ]
  },
  {
   "cell_type": "code",
   "execution_count": null,
   "id": "dae98bcd",
   "metadata": {},
   "outputs": [],
   "source": []
  }
 ],
 "metadata": {
  "kernelspec": {
   "display_name": "Python 3 (ipykernel)",
   "language": "python",
   "name": "python3"
  },
  "language_info": {
   "codemirror_mode": {
    "name": "ipython",
    "version": 3
   },
   "file_extension": ".py",
   "mimetype": "text/x-python",
   "name": "python",
   "nbconvert_exporter": "python",
   "pygments_lexer": "ipython3",
   "version": "3.9.7"
  }
 },
 "nbformat": 4,
 "nbformat_minor": 5
}
